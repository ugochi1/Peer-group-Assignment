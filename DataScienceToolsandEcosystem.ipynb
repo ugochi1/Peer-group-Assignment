{
  "metadata": {
    "kernelspec": {
      "name": "python",
      "display_name": "Python (Pyodide)",
      "language": "python"
    },
    "language_info": {
      "codemirror_mode": {
        "name": "python",
        "version": 3
      },
      "file_extension": ".py",
      "mimetype": "text/x-python",
      "name": "python",
      "nbconvert_exporter": "python",
      "pygments_lexer": "ipython3",
      "version": "3.8"
    }
  },
  "nbformat_minor": 4,
  "nbformat": 4,
  "cells": [
    {
      "cell_type": "markdown",
      "source": "****Data Science Tools and Ecosystem****",
      "metadata": {}
    },
    {
      "cell_type": "markdown",
      "source": "*****In this notebook, Data Science Tools and Ecosystem are summarized.*****",
      "metadata": {}
    },
    {
      "cell_type": "markdown",
      "source": "****Here is a list of the topics covered in this project****\n1. Exercise 1: Create a Jupyter Notebook\n1. Exercise 2 - Create a markdown cell with the title of the notebook.\n1. Exercise 3 - Create a markdown cell for an introduction.\n1. Exercise 4 - Create a markdown cell to list data science languages.\n1. Exercise 5 - Create a markdown cell to list data science libraries.\n1. Exercise 6 - Create a markdown cell with a table of Data Science tools.\n1. Exercise 7 - Create a markdown cell introducing arithmetic expression examples.\n1. Exercise 8 - Create a code cell to multiply and add numbers.\n1. Exercise 9 - Create a code cell to convert minutes to hours.\n1. Exercise 10 -Insert a markdown cell to list Objectives.\n1. Exercise 11 - Create a markdown cell to indicate the Author’s name.\n1. Exercise 12 - Share your notebook through GitHub\n1. Exercise 13 - Take a screenshot of the first page of the notebook.",
      "metadata": {}
    },
    {
      "cell_type": "markdown",
      "source": "Some of the popular languages that Data Scientists use are:\n1. Python \n1. R \n1. SQL \n1. Scala\n1. Java\n1. C++ \n1. Julia",
      "metadata": {}
    },
    {
      "cell_type": "markdown",
      "source": "Some of the commonly used libraries used by Data Scientists include:\n1. Numpy\n1. Matplotlib\n2. Scikit-learn\n3. Pandas",
      "metadata": {}
    },
    {
      "cell_type": "markdown",
      "source": "Some examples of Data Science Tools and it's uses:\n| Tools | Uses |\n| -------------| ------ |\n| Matplotlib | Used for data visualization |\n| Python | Coding language largely used by data scientists for cleaning, visualization and machine learning |\n| R | coding language designed specifically for statistical computing, data analysis |\n| TensorFlow | helps to build and deploy machine learning models more efficiently |",
      "metadata": {}
    },
    {
      "cell_type": "markdown",
      "source": "***Below are a few examples of evaluating arithmetic expressions in Python***",
      "metadata": {}
    },
    {
      "cell_type": "code",
      "source": "# Arithmetic operations\nex = compile(\"14 + 3\", \"<string>\", \"eval\")\neval(ex)\n# Result: 17",
      "metadata": {
        "trusted": true
      },
      "outputs": [
        {
          "execution_count": 1,
          "output_type": "execute_result",
          "data": {
            "text/plain": "17"
          },
          "metadata": {}
        }
      ],
      "execution_count": 1
    },
    {
      "cell_type": "code",
      "source": "ex1 = compile(\"(253 + 47) * 2\", \"<string>\", \"eval\")\neval(ex1)\n# Result: 600",
      "metadata": {
        "trusted": true
      },
      "outputs": [
        {
          "execution_count": 2,
          "output_type": "execute_result",
          "data": {
            "text/plain": "600"
          },
          "metadata": {}
        }
      ],
      "execution_count": 2
    },
    {
      "cell_type": "code",
      "source": "# This a simple arithmetic expression to mutiply then add integers\nex8 = (3*4)+5\nprint(ex8)",
      "metadata": {
        "trusted": true
      },
      "outputs": [
        {
          "name": "stdout",
          "text": "17\n",
          "output_type": "stream"
        }
      ],
      "execution_count": 3
    },
    {
      "cell_type": "code",
      "source": "# This will convert 200 minutes to hours by diving by 60\nhours, minutes = divmod(200, 60)\nprint(hours, minutes)",
      "metadata": {
        "trusted": true
      },
      "outputs": [
        {
          "name": "stdout",
          "text": "3 20\n",
          "output_type": "stream"
        }
      ],
      "execution_count": 4
    },
    {
      "cell_type": "markdown",
      "source": "**Author:**\n\nUgochi Vivian",
      "metadata": {}
    },
    {
      "cell_type": "code",
      "source": "",
      "metadata": {
        "trusted": true
      },
      "outputs": [],
      "execution_count": null
    }
  ]
}